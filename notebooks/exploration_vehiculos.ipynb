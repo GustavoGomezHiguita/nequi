{
 "cells": [
  {
   "cell_type": "code",
   "execution_count": 2,
   "metadata": {},
   "outputs": [],
   "source": [
    "import pandas as pd\n",
    "import os\n",
    "from unidecode import unidecode\n",
    "import warnings\n",
    "warnings.filterwarnings('ignore')"
   ]
  },
  {
   "attachments": {},
   "cell_type": "markdown",
   "metadata": {},
   "source": [
    "# Definir rutas de los archivos:"
   ]
  },
  {
   "cell_type": "code",
   "execution_count": 4,
   "metadata": {},
   "outputs": [],
   "source": [
    "project_directory = os.path.abspath('../')\n",
    "vehiculos_directory = os.path.join(project_directory, 'data', 'antiguedad_vehiculos_y_combustible')\n",
    "vehiculos_files = os.listdir(vehiculos_directory)"
   ]
  },
  {
   "attachments": {},
   "cell_type": "markdown",
   "metadata": {},
   "source": [
    "# Exploración archivos:"
   ]
  },
  {
   "attachments": {},
   "cell_type": "markdown",
   "metadata": {},
   "source": [
    "## Reducción de columnas:\n",
    "\n",
    "Para optimizar el uso del espacio en el bucket de data refinada en S3 y procesar solo la data necesaria en Lambda, se procede a identificar las columnas que no serán utilizadas."
   ]
  },
  {
   "attachments": {},
   "cell_type": "markdown",
   "metadata": {},
   "source": [
    "### Definir campos comunes entre los archivos:\n",
    "\n",
    "La lista resultante de campos será la primera base para definir los campos a guardar en el bucket de data refinada."
   ]
  },
  {
   "cell_type": "code",
   "execution_count": 5,
   "metadata": {},
   "outputs": [
    {
     "data": {
      "text/plain": [
       "['ANOMES',\n",
       " 'CONFIGURACION',\n",
       " 'RANGOMODELO',\n",
       " 'COMBUSTIBLE',\n",
       " 'PLACAS',\n",
       " 'VIAJES',\n",
       " 'VIAJESVACIOS',\n",
       " 'VALORPACTADO',\n",
       " 'KILOGRAMOS',\n",
       " 'GALONES',\n",
       " 'VIAJESVALORCERO',\n",
       " 'VIAJESLIQUIDOS']"
      ]
     },
     "execution_count": 5,
     "metadata": {},
     "output_type": "execute_result"
    }
   ],
   "source": [
    "ls_raw_fields = []\n",
    "for file in vehiculos_files:\n",
    "    file_path = os.path.join(vehiculos_directory, file)\n",
    "    df = pd.read_excel(file_path,nrows=0)\n",
    "    ls_raw_fields_aux = df.columns.to_list()\n",
    "    if len(ls_raw_fields)==0:\n",
    "        ls_raw_fields = ls_raw_fields_aux\n",
    "    else:\n",
    "        list(set(ls_raw_fields).intersection(ls_raw_fields_aux))\n",
    "ls_raw_fields"
   ]
  },
  {
   "attachments": {},
   "cell_type": "markdown",
   "metadata": {},
   "source": [
    "### Definir campos finales:\n",
    "\n",
    "Estos serán los campos a consultar, explorar y guardar en el bucket de data refinada."
   ]
  },
  {
   "cell_type": "code",
   "execution_count": 6,
   "metadata": {},
   "outputs": [
    {
     "name": "stdout",
     "output_type": "stream",
     "text": [
      "12\n"
     ]
    }
   ],
   "source": [
    "ls_refined_fields = ls_raw_fields\n",
    "print(len(ls_refined_fields))"
   ]
  },
  {
   "attachments": {},
   "cell_type": "markdown",
   "metadata": {},
   "source": [
    "## Identificar y definir tipos de datos:\n",
    "\n",
    "El objetivo es identificar el tipo de datos presente en todos los archivos y saber si corresponden entre archivo y archivo. Estos serán el tipo de campos a asegurar durante el proceso de limpieza."
   ]
  },
  {
   "cell_type": "code",
   "execution_count": 7,
   "metadata": {},
   "outputs": [
    {
     "name": "stdout",
     "output_type": "stream",
     "text": [
      "        column_name data_type\n",
      "0            ANOMES     int64\n",
      "1     CONFIGURACION    object\n",
      "2       RANGOMODELO    object\n",
      "3       COMBUSTIBLE    object\n",
      "4            PLACAS     int64\n",
      "5            VIAJES     int64\n",
      "6      VIAJESVACIOS     int64\n",
      "7      VALORPACTADO     int64\n",
      "8        KILOGRAMOS     int64\n",
      "9           GALONES     int64\n",
      "10  VIAJESVALORCERO     int64\n",
      "11   VIAJESLIQUIDOS     int64\n",
      "True\n"
     ]
    }
   ],
   "source": [
    "ls_raw_fields = []\n",
    "df_info = pd.DataFrame()\n",
    "for file in vehiculos_files:\n",
    "    file_path = os.path.join(vehiculos_directory, file)\n",
    "    df = pd.read_excel(file_path,usecols=ls_refined_fields)\n",
    "    ls_columns = df.columns.tolist()\n",
    "    ls_data_types = df.dtypes.tolist()\n",
    "    df_info_aux = pd.DataFrame({'column_name': ls_columns, 'data_type': ls_data_types})\n",
    "    if df_info.empty:\n",
    "        df_info = df_info_aux\n",
    "    else:\n",
    "        df_info = pd.merge(df_info,df_info_aux,on = ['column_name','data_type'],how='left')\n",
    "\n",
    "val =  len(df_info) == len(ls_refined_fields)\n",
    "print(df_info)\n",
    "print(val)"
   ]
  },
  {
   "attachments": {},
   "cell_type": "markdown",
   "metadata": {},
   "source": [
    "### Se crea un diccionario con el tipo de datos:\n",
    "\n",
    "Este diccionario se usará en el proceso de lectra de los archivos para asegurar el formato de los campos."
   ]
  },
  {
   "cell_type": "code",
   "execution_count": 8,
   "metadata": {},
   "outputs": [
    {
     "data": {
      "text/plain": [
       "{'ANOMES': dtype('int64'),\n",
       " 'CONFIGURACION': dtype('O'),\n",
       " 'RANGOMODELO': dtype('O'),\n",
       " 'COMBUSTIBLE': dtype('O'),\n",
       " 'PLACAS': dtype('int64'),\n",
       " 'VIAJES': dtype('int64'),\n",
       " 'VIAJESVACIOS': dtype('int64'),\n",
       " 'VALORPACTADO': dtype('int64'),\n",
       " 'KILOGRAMOS': dtype('int64'),\n",
       " 'GALONES': dtype('int64'),\n",
       " 'VIAJESVALORCERO': dtype('int64'),\n",
       " 'VIAJESLIQUIDOS': dtype('int64')}"
      ]
     },
     "execution_count": 8,
     "metadata": {},
     "output_type": "execute_result"
    }
   ],
   "source": [
    "dict_types = df_info.set_index('column_name')['data_type'].to_dict()\n",
    "# df = pd.read_excel(file_path,nrows=100,usecols=ls_refined_fields,dtype=dict_types)\n",
    "dict_types"
   ]
  },
  {
   "attachments": {},
   "cell_type": "markdown",
   "metadata": {},
   "source": [
    "## Validaciones:\n",
    "\n",
    "En este paso se establecen las validaciones de los archivos, en caso de que algún archivo no supere la fase de validación no será cargado en el bucket de data refinada."
   ]
  },
  {
   "attachments": {},
   "cell_type": "markdown",
   "metadata": {},
   "source": [
    "### Validar formato de archivos:\n",
    "\n",
    "Se valida si el formato de los archivos"
   ]
  },
  {
   "cell_type": "code",
   "execution_count": 9,
   "metadata": {},
   "outputs": [
    {
     "name": "stdout",
     "output_type": "stream",
     "text": [
      "file: EstadisticasRNDC_202100Placas.xlsx | validation: True\n"
     ]
    }
   ],
   "source": [
    "for file in vehiculos_files:\n",
    "    if not file_path.endswith('.xlsx'):\n",
    "        val = False\n",
    "    else:\n",
    "        val = True\n",
    "    print(f'file: {file} | validation: {val}')"
   ]
  },
  {
   "attachments": {},
   "cell_type": "markdown",
   "metadata": {},
   "source": [
    "###  Validar campos:\n",
    "\n",
    "Se valida si todos los campos definidos están presentes en el archivo."
   ]
  },
  {
   "cell_type": "code",
   "execution_count": 10,
   "metadata": {},
   "outputs": [
    {
     "name": "stdout",
     "output_type": "stream",
     "text": [
      "file EstadisticasRNDC_202100Placas.xlsx | validation: True\n"
     ]
    }
   ],
   "source": [
    "for file in vehiculos_files:\n",
    "    file_path = os.path.join(vehiculos_directory, file)\n",
    "    df = pd.read_excel(file_path,nrows=0)\n",
    "    val = all(elem in df.columns.to_list() for elem in ls_refined_fields)\n",
    "    print(f'file {file} | validation: {val}')"
   ]
  },
  {
   "attachments": {},
   "cell_type": "markdown",
   "metadata": {},
   "source": [
    "### Validar coherencia en los datos:\n",
    "\n",
    "Se valida si el periodo al que hace referencia el nombre del archivo corresponde con el dato de la columna \"MES\". Para el momento de la limpieza si el archivo no cumple esta validación no será procesado ni cargado en el bucked de data refinada."
   ]
  },
  {
   "cell_type": "code",
   "execution_count": 22,
   "metadata": {},
   "outputs": [
    {
     "name": "stdout",
     "output_type": "stream",
     "text": [
      "file: EstadisticasRNDC_202100Placas.xlsx | period: 202100.0 | period_avg: 202100.0 | validation: True\n"
     ]
    }
   ],
   "source": [
    "for file in vehiculos_files:\n",
    "    file_path = os.path.join(vehiculos_directory, file)\n",
    "    period = float(file.split('_')[-1].split('.')[0][:6])\n",
    "    period = period\n",
    "    df = pd.read_excel(file_path,usecols=['ANOMES'])\n",
    "    period_avg = df.ANOMES.mean()\n",
    "    val = period == period_avg\n",
    "    print(f'file: {file} | period: {period} | period_avg: {period_avg} | validation: {val}')"
   ]
  },
  {
   "attachments": {},
   "cell_type": "markdown",
   "metadata": {},
   "source": [
    "# Transformaciones y limpieza:\n",
    "\n",
    "En este paso entrarán todos los archivos que hayan pasado la fase de validación. Sin embargo, para el ejemplo de este notebook ssolo se usará el archivo \"EstadisticasRNDC_202207.xlsx\""
   ]
  },
  {
   "cell_type": "code",
   "execution_count": 25,
   "metadata": {},
   "outputs": [
    {
     "name": "stdout",
     "output_type": "stream",
     "text": [
      "file: EstadisticasRNDC_202100Placas.xlsx | status: refined\n"
     ]
    }
   ],
   "source": [
    "file = 'EstadisticasRNDC_202100Placas.xlsx'\n",
    "file_path = os.path.join(vehiculos_directory, file)\n",
    "df = pd.read_excel(file_path,usecols=ls_refined_fields,dtype=dict_types)\n",
    "df.rename(columns={'CONFIGURACION':'COD_CONFIG_VEHICULO'},inplace=True)\n",
    "df.drop_duplicates(inplace=True) # eliminar duplicados\n",
    "df = df.applymap(lambda x: x.upper() if isinstance(x, str) else x) # volver mayúsculas los campos str\n",
    "df = df.applymap(lambda x: unidecode(x) if isinstance(x, str) else x) # quitar acentos a campos str\n",
    "print(f'file: {file} | status: refined')\n"
   ]
  },
  {
   "cell_type": "code",
   "execution_count": 26,
   "metadata": {},
   "outputs": [
    {
     "data": {
      "text/html": [
       "<div>\n",
       "<style scoped>\n",
       "    .dataframe tbody tr th:only-of-type {\n",
       "        vertical-align: middle;\n",
       "    }\n",
       "\n",
       "    .dataframe tbody tr th {\n",
       "        vertical-align: top;\n",
       "    }\n",
       "\n",
       "    .dataframe thead th {\n",
       "        text-align: right;\n",
       "    }\n",
       "</style>\n",
       "<table border=\"1\" class=\"dataframe\">\n",
       "  <thead>\n",
       "    <tr style=\"text-align: right;\">\n",
       "      <th></th>\n",
       "      <th>ANOMES</th>\n",
       "      <th>COD_CONFIG_VEHICULO</th>\n",
       "      <th>RANGOMODELO</th>\n",
       "      <th>COMBUSTIBLE</th>\n",
       "      <th>PLACAS</th>\n",
       "      <th>VIAJES</th>\n",
       "      <th>VIAJESVACIOS</th>\n",
       "      <th>VALORPACTADO</th>\n",
       "      <th>KILOGRAMOS</th>\n",
       "      <th>GALONES</th>\n",
       "      <th>VIAJESVALORCERO</th>\n",
       "      <th>VIAJESLIQUIDOS</th>\n",
       "    </tr>\n",
       "  </thead>\n",
       "  <tbody>\n",
       "    <tr>\n",
       "      <th>0</th>\n",
       "      <td>202100</td>\n",
       "      <td>4R4</td>\n",
       "      <td>1991-1995</td>\n",
       "      <td>DIESEL</td>\n",
       "      <td>1</td>\n",
       "      <td>1</td>\n",
       "      <td>0</td>\n",
       "      <td>4100000</td>\n",
       "      <td>25198</td>\n",
       "      <td>0</td>\n",
       "      <td>0</td>\n",
       "      <td>0</td>\n",
       "    </tr>\n",
       "    <tr>\n",
       "      <th>1</th>\n",
       "      <td>202100</td>\n",
       "      <td>3R3</td>\n",
       "      <td>1950-1970</td>\n",
       "      <td>DIESEL</td>\n",
       "      <td>1</td>\n",
       "      <td>2</td>\n",
       "      <td>0</td>\n",
       "      <td>3750000</td>\n",
       "      <td>40000</td>\n",
       "      <td>0</td>\n",
       "      <td>0</td>\n",
       "      <td>0</td>\n",
       "    </tr>\n",
       "    <tr>\n",
       "      <th>2</th>\n",
       "      <td>202100</td>\n",
       "      <td>3S1</td>\n",
       "      <td>2011-2015</td>\n",
       "      <td>BIODIESEL</td>\n",
       "      <td>1</td>\n",
       "      <td>5</td>\n",
       "      <td>0</td>\n",
       "      <td>8600000</td>\n",
       "      <td>71000</td>\n",
       "      <td>0</td>\n",
       "      <td>0</td>\n",
       "      <td>0</td>\n",
       "    </tr>\n",
       "    <tr>\n",
       "      <th>3</th>\n",
       "      <td>202100</td>\n",
       "      <td>3S2S2</td>\n",
       "      <td>1996-2000</td>\n",
       "      <td>DIESEL</td>\n",
       "      <td>1</td>\n",
       "      <td>1</td>\n",
       "      <td>0</td>\n",
       "      <td>1000000</td>\n",
       "      <td>10000</td>\n",
       "      <td>0</td>\n",
       "      <td>0</td>\n",
       "      <td>0</td>\n",
       "    </tr>\n",
       "    <tr>\n",
       "      <th>4</th>\n",
       "      <td>202100</td>\n",
       "      <td>3S2</td>\n",
       "      <td>1981-1985</td>\n",
       "      <td>GAS</td>\n",
       "      <td>1</td>\n",
       "      <td>4</td>\n",
       "      <td>0</td>\n",
       "      <td>0</td>\n",
       "      <td>80000</td>\n",
       "      <td>0</td>\n",
       "      <td>4</td>\n",
       "      <td>0</td>\n",
       "    </tr>\n",
       "  </tbody>\n",
       "</table>\n",
       "</div>"
      ],
      "text/plain": [
       "   ANOMES COD_CONFIG_VEHICULO RANGOMODELO COMBUSTIBLE  PLACAS  VIAJES   \n",
       "0  202100                 4R4   1991-1995      DIESEL       1       1  \\\n",
       "1  202100                 3R3   1950-1970      DIESEL       1       2   \n",
       "2  202100                 3S1   2011-2015   BIODIESEL       1       5   \n",
       "3  202100               3S2S2   1996-2000      DIESEL       1       1   \n",
       "4  202100                 3S2   1981-1985         GAS       1       4   \n",
       "\n",
       "   VIAJESVACIOS  VALORPACTADO  KILOGRAMOS  GALONES  VIAJESVALORCERO   \n",
       "0             0       4100000       25198        0                0  \\\n",
       "1             0       3750000       40000        0                0   \n",
       "2             0       8600000       71000        0                0   \n",
       "3             0       1000000       10000        0                0   \n",
       "4             0             0       80000        0                4   \n",
       "\n",
       "   VIAJESLIQUIDOS  \n",
       "0               0  \n",
       "1               0  \n",
       "2               0  \n",
       "3               0  \n",
       "4               0  "
      ]
     },
     "execution_count": 26,
     "metadata": {},
     "output_type": "execute_result"
    }
   ],
   "source": [
    "df.head()"
   ]
  }
 ],
 "metadata": {
  "kernelspec": {
   "display_name": "venv",
   "language": "python",
   "name": "python3"
  },
  "language_info": {
   "codemirror_mode": {
    "name": "ipython",
    "version": 3
   },
   "file_extension": ".py",
   "mimetype": "text/x-python",
   "name": "python",
   "nbconvert_exporter": "python",
   "pygments_lexer": "ipython3",
   "version": "3.10.4"
  },
  "orig_nbformat": 4
 },
 "nbformat": 4,
 "nbformat_minor": 2
}
