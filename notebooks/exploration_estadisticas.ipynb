{
 "cells": [
  {
   "cell_type": "code",
   "execution_count": 9,
   "metadata": {},
   "outputs": [],
   "source": [
    "import pandas as pd\n",
    "import os\n",
    "from unidecode import unidecode\n",
    "import warnings\n",
    "warnings.filterwarnings('ignore')"
   ]
  },
  {
   "attachments": {},
   "cell_type": "markdown",
   "metadata": {},
   "source": [
    "# Definir rutas de los archivos:"
   ]
  },
  {
   "cell_type": "code",
   "execution_count": 10,
   "metadata": {},
   "outputs": [],
   "source": [
    "project_directory = os.path.abspath('../')\n",
    "estadisticas_directory = os.path.join(project_directory, 'data', 'estadisticas')\n",
    "estadisticas_files = os.listdir(estadisticas_directory)"
   ]
  },
  {
   "attachments": {},
   "cell_type": "markdown",
   "metadata": {},
   "source": [
    "# Exploración archivos:"
   ]
  },
  {
   "attachments": {},
   "cell_type": "markdown",
   "metadata": {},
   "source": [
    "## Reducción de columnas:\n",
    "\n",
    "Para optimizar el uso del espacio en el bucket de data refinada en S3 y procesar solo la data necesaria en Lambda, se procede a identificar las columnas que no serán utilizadas."
   ]
  },
  {
   "attachments": {},
   "cell_type": "markdown",
   "metadata": {},
   "source": [
    "### Definir campos comunes entre los archivos:\n",
    "\n",
    "La lista resultante de campos será la primera base para definir los campos a guardar en el bucket de data refinada."
   ]
  },
  {
   "cell_type": "code",
   "execution_count": 11,
   "metadata": {},
   "outputs": [
    {
     "data": {
      "text/plain": [
       "['MES',\n",
       " 'COD_CONFIG_VEHICULO',\n",
       " 'CONFIG_VEHICULO',\n",
       " 'CODOPERACIONTRANSPORTE',\n",
       " 'OPERACIONTRANSPORTE',\n",
       " 'CODTIPOCONTENEDOR',\n",
       " 'TIPOCONTENEDOR',\n",
       " 'CODMUNICIPIOORIGEN',\n",
       " 'MUNICIPIOORIGEN',\n",
       " 'DEPARTAMENTOORIGEN',\n",
       " 'CODMUNICIPIODESTINO',\n",
       " 'MUNICIPIODESTINO',\n",
       " 'DEPARTAMENTODESTINO',\n",
       " 'CODMERCANCIA',\n",
       " 'MERCANCIA',\n",
       " 'NATURALEZACARGA',\n",
       " 'VIAJESTOTALES',\n",
       " 'KILOGRAMOS',\n",
       " 'GALONES',\n",
       " 'VIAJESLIQUIDOS',\n",
       " 'VIAJESVALORCERO',\n",
       " 'KILOMETROS',\n",
       " 'VALORESPAGADOS',\n",
       " 'CODMUNICIPIOINTERMEDIO',\n",
       " 'MUNICIPIOINTERMEDIO',\n",
       " 'DEPARTAMENTOINTERMEDIO',\n",
       " 'KILOMETROSREGRESO',\n",
       " 'KILOGRAMOSREGRESO',\n",
       " 'GALONESREGRESO']"
      ]
     },
     "execution_count": 11,
     "metadata": {},
     "output_type": "execute_result"
    }
   ],
   "source": [
    "ls_raw_fields = []\n",
    "for file in estadisticas_files:\n",
    "    file_path = os.path.join(estadisticas_directory, file)\n",
    "    df = pd.read_excel(file_path,nrows=0)\n",
    "    ls_raw_fields_aux = df.columns.to_list()\n",
    "    if len(ls_raw_fields)==0:\n",
    "        ls_raw_fields = ls_raw_fields_aux\n",
    "    else:\n",
    "        list(set(ls_raw_fields).intersection(ls_raw_fields_aux))\n",
    "ls_raw_fields"
   ]
  },
  {
   "attachments": {},
   "cell_type": "markdown",
   "metadata": {},
   "source": [
    "### Definir campos redundantes:\n",
    "\n",
    "Se considera a los campos de esta lista como redundates porque ya se encuentran definidos por su correspondiente código."
   ]
  },
  {
   "cell_type": "code",
   "execution_count": 12,
   "metadata": {},
   "outputs": [],
   "source": [
    "ls_redundant_fields = ['OPERACIONTRANSPORTE','CONFIG_VEHICULO','TIPOCONTENEDOR', 'MUNICIPIOORIGEN', 'DEPARTAMENTOORIGEN', 'MUNICIPIODESTINO', 'DEPARTAMENTODESTINO', \n",
    "                        'MERCANCIA', 'MUNICIPIOINTERMEDIO', 'DEPARTAMENTOINTERMEDIO']"
   ]
  },
  {
   "attachments": {},
   "cell_type": "markdown",
   "metadata": {},
   "source": [
    "### Definir campos finales:\n",
    "\n",
    "Estos serán los campos a consultar, explorar y guardar en el bucket de data refinada."
   ]
  },
  {
   "cell_type": "code",
   "execution_count": 13,
   "metadata": {},
   "outputs": [
    {
     "name": "stdout",
     "output_type": "stream",
     "text": [
      "19\n"
     ]
    }
   ],
   "source": [
    "ls_refined_fields = [field for field in ls_raw_fields if field not in ls_redundant_fields]\n",
    "print(len(ls_refined_fields))"
   ]
  },
  {
   "attachments": {},
   "cell_type": "markdown",
   "metadata": {},
   "source": [
    "## Identificar y definir tipos de datos:\n",
    "\n",
    "El objetivo es identificar el tipo de datos presente en todos los archivos y saber si corresponden entre archivo y archivo. Estos serán el tipo de campos a asegurar durante el proceso de limpieza."
   ]
  },
  {
   "cell_type": "code",
   "execution_count": 14,
   "metadata": {},
   "outputs": [
    {
     "name": "stdout",
     "output_type": "stream",
     "text": [
      "               column_name data_type\n",
      "0                      MES     int64\n",
      "1      COD_CONFIG_VEHICULO    object\n",
      "2   CODOPERACIONTRANSPORTE    object\n",
      "3        CODTIPOCONTENEDOR    object\n",
      "4       CODMUNICIPIOORIGEN     int64\n",
      "5      CODMUNICIPIODESTINO     int64\n",
      "6             CODMERCANCIA    object\n",
      "7          NATURALEZACARGA    object\n",
      "8            VIAJESTOTALES     int64\n",
      "9               KILOGRAMOS     int64\n",
      "10                 GALONES     int64\n",
      "11          VIAJESLIQUIDOS     int64\n",
      "12         VIAJESVALORCERO     int64\n",
      "13              KILOMETROS     int64\n",
      "14          VALORESPAGADOS     int64\n",
      "15  CODMUNICIPIOINTERMEDIO     int64\n",
      "16       KILOMETROSREGRESO     int64\n",
      "17       KILOGRAMOSREGRESO     int64\n",
      "18          GALONESREGRESO     int64\n",
      "True\n"
     ]
    }
   ],
   "source": [
    "ls_raw_fields = []\n",
    "df_info = pd.DataFrame()\n",
    "for file in estadisticas_files:\n",
    "    file_path = os.path.join(estadisticas_directory, file)\n",
    "    df = pd.read_excel(file_path,usecols=ls_refined_fields)\n",
    "    ls_columns = df.columns.tolist()\n",
    "    ls_data_types = df.dtypes.tolist()\n",
    "    df_info_aux = pd.DataFrame({'column_name': ls_columns, 'data_type': ls_data_types})\n",
    "    if df_info.empty:\n",
    "        df_info = df_info_aux\n",
    "    else:\n",
    "        df_info = pd.merge(df_info,df_info_aux,on = ['column_name','data_type'],how='left')\n",
    "\n",
    "val =  len(df_info) == len(ls_refined_fields)\n",
    "print(df_info)\n",
    "print(val)"
   ]
  },
  {
   "attachments": {},
   "cell_type": "markdown",
   "metadata": {},
   "source": [
    "### Se crea un diccionario con el tipo de datos:\n",
    "\n",
    "Este diccionario se usará en el proceso de lectra de los archivos para asegurar el formato de los campos."
   ]
  },
  {
   "cell_type": "code",
   "execution_count": 15,
   "metadata": {},
   "outputs": [
    {
     "data": {
      "text/plain": [
       "{'MES': dtype('int64'),\n",
       " 'COD_CONFIG_VEHICULO': dtype('O'),\n",
       " 'CODOPERACIONTRANSPORTE': dtype('O'),\n",
       " 'CODTIPOCONTENEDOR': dtype('O'),\n",
       " 'CODMUNICIPIOORIGEN': dtype('int64'),\n",
       " 'CODMUNICIPIODESTINO': dtype('int64'),\n",
       " 'CODMERCANCIA': dtype('O'),\n",
       " 'NATURALEZACARGA': dtype('O'),\n",
       " 'VIAJESTOTALES': dtype('int64'),\n",
       " 'KILOGRAMOS': dtype('int64'),\n",
       " 'GALONES': dtype('int64'),\n",
       " 'VIAJESLIQUIDOS': dtype('int64'),\n",
       " 'VIAJESVALORCERO': dtype('int64'),\n",
       " 'KILOMETROS': dtype('int64'),\n",
       " 'VALORESPAGADOS': dtype('int64'),\n",
       " 'CODMUNICIPIOINTERMEDIO': dtype('int64'),\n",
       " 'KILOMETROSREGRESO': dtype('int64'),\n",
       " 'KILOGRAMOSREGRESO': dtype('int64'),\n",
       " 'GALONESREGRESO': dtype('int64')}"
      ]
     },
     "execution_count": 15,
     "metadata": {},
     "output_type": "execute_result"
    }
   ],
   "source": [
    "dict_types = df_info.set_index('column_name')['data_type'].to_dict()\n",
    "dict_types"
   ]
  },
  {
   "attachments": {},
   "cell_type": "markdown",
   "metadata": {},
   "source": [
    "## Validaciones:\n",
    "\n",
    "En este paso se establecen las validaciones de los archivos, en caso de que algún archivo no supere la fase de validación no será cargado en el bucket de data refinada."
   ]
  },
  {
   "attachments": {},
   "cell_type": "markdown",
   "metadata": {},
   "source": [
    "### Validar formato de archivos:\n",
    "\n",
    "Se valida si el formato de los archivos"
   ]
  },
  {
   "cell_type": "code",
   "execution_count": 16,
   "metadata": {},
   "outputs": [
    {
     "name": "stdout",
     "output_type": "stream",
     "text": [
      "file: EstadisticasRNDC_202207.xlsx | validation: True\n",
      "file: EstadisticasRNDC_202208.xlsx | validation: True\n",
      "file: EstadisticasRNDC_202209.xlsx | validation: True\n",
      "file: EstadisticasRNDC_202210.xlsx | validation: True\n",
      "file: EstadisticasRNDC_202211.xlsx | validation: True\n",
      "file: EstadisticasRNDC_202212.xlsx | validation: True\n",
      "file: EstadisticasRNDC_202301.xlsx | validation: True\n",
      "file: EstadisticasRNDC_202302.xlsx | validation: True\n",
      "file: EstadisticasRNDC_202303.xlsx | validation: True\n",
      "file: EstadisticasRNDC_202304.xlsx | validation: True\n"
     ]
    }
   ],
   "source": [
    "for file in estadisticas_files:\n",
    "    if not file_path.endswith('.xlsx'):\n",
    "        val = False\n",
    "    else:\n",
    "        val = True\n",
    "    print(f'file: {file} | validation: {val}')"
   ]
  },
  {
   "attachments": {},
   "cell_type": "markdown",
   "metadata": {},
   "source": [
    "###  Validar campos:\n",
    "\n",
    "Se valida si todos los campos definidos están presentes en el archivo."
   ]
  },
  {
   "cell_type": "code",
   "execution_count": 17,
   "metadata": {},
   "outputs": [
    {
     "name": "stdout",
     "output_type": "stream",
     "text": [
      "file EstadisticasRNDC_202207.xlsx | validation: True\n",
      "file EstadisticasRNDC_202208.xlsx | validation: True\n",
      "file EstadisticasRNDC_202209.xlsx | validation: True\n",
      "file EstadisticasRNDC_202210.xlsx | validation: True\n",
      "file EstadisticasRNDC_202211.xlsx | validation: True\n",
      "file EstadisticasRNDC_202212.xlsx | validation: True\n",
      "file EstadisticasRNDC_202301.xlsx | validation: True\n",
      "file EstadisticasRNDC_202302.xlsx | validation: True\n",
      "file EstadisticasRNDC_202303.xlsx | validation: True\n",
      "file EstadisticasRNDC_202304.xlsx | validation: True\n"
     ]
    }
   ],
   "source": [
    "for file in estadisticas_files:\n",
    "    file_path = os.path.join(estadisticas_directory, file)\n",
    "    df = pd.read_excel(file_path,nrows=0)\n",
    "    val = all(elem in df.columns.to_list() for elem in ls_refined_fields)\n",
    "    print(f'file {file} | validation: {val}')"
   ]
  },
  {
   "attachments": {},
   "cell_type": "markdown",
   "metadata": {},
   "source": [
    "### Validar coherencia en los datos:\n",
    "\n",
    "Se valida si el periodo al que hace referencia el nombre del archivo corresponde con el dato de la columna \"MES\". Para el momento de la limpieza si el archivo no cumple esta validación no será procesado ni cargado en el bucked de data refinada."
   ]
  },
  {
   "cell_type": "code",
   "execution_count": 18,
   "metadata": {},
   "outputs": [
    {
     "name": "stdout",
     "output_type": "stream",
     "text": [
      "file: EstadisticasRNDC_202207.xlsx | period: 202207.0 | period_avg: 202207.0 | validation: True\n",
      "file: EstadisticasRNDC_202208.xlsx | period: 202208.0 | period_avg: 202208.0 | validation: True\n",
      "file: EstadisticasRNDC_202209.xlsx | period: 202209.0 | period_avg: 202209.0 | validation: True\n",
      "file: EstadisticasRNDC_202210.xlsx | period: 202210.0 | period_avg: 202210.0 | validation: True\n",
      "file: EstadisticasRNDC_202211.xlsx | period: 202211.0 | period_avg: 202211.0 | validation: True\n",
      "file: EstadisticasRNDC_202212.xlsx | period: 202212.0 | period_avg: 202212.0 | validation: True\n",
      "file: EstadisticasRNDC_202301.xlsx | period: 202301.0 | period_avg: 202302.0 | validation: False\n",
      "file: EstadisticasRNDC_202302.xlsx | period: 202302.0 | period_avg: 202302.0 | validation: True\n",
      "file: EstadisticasRNDC_202303.xlsx | period: 202303.0 | period_avg: 202303.0 | validation: True\n",
      "file: EstadisticasRNDC_202304.xlsx | period: 202304.0 | period_avg: 202304.0 | validation: True\n"
     ]
    }
   ],
   "source": [
    "for file in estadisticas_files:\n",
    "    file_path = os.path.join(estadisticas_directory, file)\n",
    "    period = float(file.split('_')[-1].split('.')[0])\n",
    "    df = pd.read_excel(file_path,usecols=['MES'])\n",
    "    period_avg = df.MES.mean()\n",
    "    val = period == period_avg\n",
    "    print(f'file: {file} | period: {period} | period_avg: {period_avg} | validation: {val}')"
   ]
  },
  {
   "attachments": {},
   "cell_type": "markdown",
   "metadata": {},
   "source": [
    "# Transformaciones y limpieza:\n",
    "\n",
    "En este paso entrarán todos los archivos que hayan pasado la fase de validación. Sin embargo, para el ejemplo de este notebook ssolo se usará el archivo \"EstadisticasRNDC_202207.xlsx\""
   ]
  },
  {
   "cell_type": "code",
   "execution_count": 19,
   "metadata": {},
   "outputs": [
    {
     "name": "stdout",
     "output_type": "stream",
     "text": [
      "file: EstadisticasRNDC_202207.xlsx | status: refined\n"
     ]
    }
   ],
   "source": [
    "file = 'EstadisticasRNDC_202207.xlsx'\n",
    "file_path = os.path.join(estadisticas_directory, file)\n",
    "df = pd.read_excel(file_path,usecols=ls_refined_fields,dtype=dict_types)\n",
    "df.rename(columns={'MES':'ANOMES'},inplace=True)\n",
    "df.drop_duplicates(inplace=True) # eliminar duplicados\n",
    "df = df.applymap(lambda x: x.upper() if isinstance(x, str) else x) # volver mayúsculas los campos str\n",
    "df = df.applymap(lambda x: unidecode(x) if isinstance(x, str) else x) # quitar acentos a campos str\n",
    "print(f'file: {file} | status: refined')"
   ]
  },
  {
   "cell_type": "code",
   "execution_count": 20,
   "metadata": {},
   "outputs": [
    {
     "data": {
      "text/html": [
       "<div>\n",
       "<style scoped>\n",
       "    .dataframe tbody tr th:only-of-type {\n",
       "        vertical-align: middle;\n",
       "    }\n",
       "\n",
       "    .dataframe tbody tr th {\n",
       "        vertical-align: top;\n",
       "    }\n",
       "\n",
       "    .dataframe thead th {\n",
       "        text-align: right;\n",
       "    }\n",
       "</style>\n",
       "<table border=\"1\" class=\"dataframe\">\n",
       "  <thead>\n",
       "    <tr style=\"text-align: right;\">\n",
       "      <th></th>\n",
       "      <th>ANOMES</th>\n",
       "      <th>COD_CONFIG_VEHICULO</th>\n",
       "      <th>CODOPERACIONTRANSPORTE</th>\n",
       "      <th>CODTIPOCONTENEDOR</th>\n",
       "      <th>CODMUNICIPIOORIGEN</th>\n",
       "      <th>CODMUNICIPIODESTINO</th>\n",
       "      <th>CODMERCANCIA</th>\n",
       "      <th>NATURALEZACARGA</th>\n",
       "      <th>VIAJESTOTALES</th>\n",
       "      <th>KILOGRAMOS</th>\n",
       "      <th>GALONES</th>\n",
       "      <th>VIAJESLIQUIDOS</th>\n",
       "      <th>VIAJESVALORCERO</th>\n",
       "      <th>KILOMETROS</th>\n",
       "      <th>VALORESPAGADOS</th>\n",
       "      <th>CODMUNICIPIOINTERMEDIO</th>\n",
       "      <th>KILOMETROSREGRESO</th>\n",
       "      <th>KILOGRAMOSREGRESO</th>\n",
       "      <th>GALONESREGRESO</th>\n",
       "    </tr>\n",
       "  </thead>\n",
       "  <tbody>\n",
       "    <tr>\n",
       "      <th>0</th>\n",
       "      <td>202207</td>\n",
       "      <td>CA</td>\n",
       "      <td>G</td>\n",
       "      <td>.</td>\n",
       "      <td>5001000</td>\n",
       "      <td>5686000</td>\n",
       "      <td>009980</td>\n",
       "      <td>CARGA NORMAL</td>\n",
       "      <td>2</td>\n",
       "      <td>1200</td>\n",
       "      <td>0</td>\n",
       "      <td>0</td>\n",
       "      <td>1</td>\n",
       "      <td>77</td>\n",
       "      <td>400000</td>\n",
       "      <td>0</td>\n",
       "      <td>0</td>\n",
       "      <td>0</td>\n",
       "      <td>0</td>\n",
       "    </tr>\n",
       "    <tr>\n",
       "      <th>1</th>\n",
       "      <td>202207</td>\n",
       "      <td>CA</td>\n",
       "      <td>G</td>\n",
       "      <td>.</td>\n",
       "      <td>5001000</td>\n",
       "      <td>5607000</td>\n",
       "      <td>008508</td>\n",
       "      <td>CARGA NORMAL</td>\n",
       "      <td>1</td>\n",
       "      <td>2000</td>\n",
       "      <td>0</td>\n",
       "      <td>0</td>\n",
       "      <td>0</td>\n",
       "      <td>31</td>\n",
       "      <td>300000</td>\n",
       "      <td>0</td>\n",
       "      <td>0</td>\n",
       "      <td>0</td>\n",
       "      <td>0</td>\n",
       "    </tr>\n",
       "    <tr>\n",
       "      <th>2</th>\n",
       "      <td>202207</td>\n",
       "      <td>CA</td>\n",
       "      <td>G</td>\n",
       "      <td>.</td>\n",
       "      <td>5001000</td>\n",
       "      <td>50001000</td>\n",
       "      <td>009403</td>\n",
       "      <td>CARGA NORMAL</td>\n",
       "      <td>1</td>\n",
       "      <td>1500</td>\n",
       "      <td>0</td>\n",
       "      <td>0</td>\n",
       "      <td>0</td>\n",
       "      <td>531</td>\n",
       "      <td>900000</td>\n",
       "      <td>0</td>\n",
       "      <td>0</td>\n",
       "      <td>0</td>\n",
       "      <td>0</td>\n",
       "    </tr>\n",
       "    <tr>\n",
       "      <th>3</th>\n",
       "      <td>202207</td>\n",
       "      <td>CA</td>\n",
       "      <td>G</td>\n",
       "      <td>.</td>\n",
       "      <td>5001000</td>\n",
       "      <td>23855000</td>\n",
       "      <td>006501</td>\n",
       "      <td>CARGA NORMAL</td>\n",
       "      <td>1</td>\n",
       "      <td>70</td>\n",
       "      <td>0</td>\n",
       "      <td>0</td>\n",
       "      <td>0</td>\n",
       "      <td>462</td>\n",
       "      <td>80000</td>\n",
       "      <td>0</td>\n",
       "      <td>0</td>\n",
       "      <td>0</td>\n",
       "      <td>0</td>\n",
       "    </tr>\n",
       "    <tr>\n",
       "      <th>4</th>\n",
       "      <td>202207</td>\n",
       "      <td>CA</td>\n",
       "      <td>G</td>\n",
       "      <td>.</td>\n",
       "      <td>5001000</td>\n",
       "      <td>5400000</td>\n",
       "      <td>009880</td>\n",
       "      <td>CARGA NORMAL</td>\n",
       "      <td>2</td>\n",
       "      <td>1936</td>\n",
       "      <td>0</td>\n",
       "      <td>0</td>\n",
       "      <td>0</td>\n",
       "      <td>58</td>\n",
       "      <td>436924</td>\n",
       "      <td>0</td>\n",
       "      <td>0</td>\n",
       "      <td>0</td>\n",
       "      <td>0</td>\n",
       "    </tr>\n",
       "  </tbody>\n",
       "</table>\n",
       "</div>"
      ],
      "text/plain": [
       "   ANOMES COD_CONFIG_VEHICULO CODOPERACIONTRANSPORTE CODTIPOCONTENEDOR   \n",
       "0  202207                  CA                      G                 .  \\\n",
       "1  202207                  CA                      G                 .   \n",
       "2  202207                  CA                      G                 .   \n",
       "3  202207                  CA                      G                 .   \n",
       "4  202207                  CA                      G                 .   \n",
       "\n",
       "   CODMUNICIPIOORIGEN  CODMUNICIPIODESTINO CODMERCANCIA NATURALEZACARGA   \n",
       "0             5001000              5686000       009980    CARGA NORMAL  \\\n",
       "1             5001000              5607000       008508    CARGA NORMAL   \n",
       "2             5001000             50001000       009403    CARGA NORMAL   \n",
       "3             5001000             23855000       006501    CARGA NORMAL   \n",
       "4             5001000              5400000       009880    CARGA NORMAL   \n",
       "\n",
       "   VIAJESTOTALES  KILOGRAMOS  GALONES  VIAJESLIQUIDOS  VIAJESVALORCERO   \n",
       "0              2        1200        0               0                1  \\\n",
       "1              1        2000        0               0                0   \n",
       "2              1        1500        0               0                0   \n",
       "3              1          70        0               0                0   \n",
       "4              2        1936        0               0                0   \n",
       "\n",
       "   KILOMETROS  VALORESPAGADOS  CODMUNICIPIOINTERMEDIO  KILOMETROSREGRESO   \n",
       "0          77          400000                       0                  0  \\\n",
       "1          31          300000                       0                  0   \n",
       "2         531          900000                       0                  0   \n",
       "3         462           80000                       0                  0   \n",
       "4          58          436924                       0                  0   \n",
       "\n",
       "   KILOGRAMOSREGRESO  GALONESREGRESO  \n",
       "0                  0               0  \n",
       "1                  0               0  \n",
       "2                  0               0  \n",
       "3                  0               0  \n",
       "4                  0               0  "
      ]
     },
     "execution_count": 20,
     "metadata": {},
     "output_type": "execute_result"
    }
   ],
   "source": [
    "df.head()"
   ]
  }
 ],
 "metadata": {
  "kernelspec": {
   "display_name": "venv",
   "language": "python",
   "name": "python3"
  },
  "language_info": {
   "codemirror_mode": {
    "name": "ipython",
    "version": 3
   },
   "file_extension": ".py",
   "mimetype": "text/x-python",
   "name": "python",
   "nbconvert_exporter": "python",
   "pygments_lexer": "ipython3",
   "version": "3.10.4"
  },
  "orig_nbformat": 4
 },
 "nbformat": 4,
 "nbformat_minor": 2
}
