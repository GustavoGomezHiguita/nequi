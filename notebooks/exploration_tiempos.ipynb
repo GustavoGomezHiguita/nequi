{
 "cells": [
  {
   "cell_type": "code",
   "execution_count": 1,
   "metadata": {},
   "outputs": [],
   "source": [
    "import pandas as pd\n",
    "import os\n",
    "from unidecode import unidecode\n",
    "import warnings\n",
    "warnings.filterwarnings('ignore')"
   ]
  },
  {
   "attachments": {},
   "cell_type": "markdown",
   "metadata": {},
   "source": [
    "# Definir rutas de los archivos:"
   ]
  },
  {
   "cell_type": "code",
   "execution_count": 2,
   "metadata": {},
   "outputs": [
    {
     "data": {
      "text/plain": [
       "['RemesasRNDC_202207.txt',\n",
       " 'RemesasRNDC_202208.txt',\n",
       " 'RemesasRNDC_202209.txt',\n",
       " 'RemesasRNDC_202210.txt',\n",
       " 'RemesasRNDC_202211.txt',\n",
       " 'RemesasRNDC_202212.txt',\n",
       " 'RemesasRNDC_202301.txt',\n",
       " 'RemesasRNDC_202302.txt',\n",
       " 'RemesasRNDC_202303.txt']"
      ]
     },
     "execution_count": 2,
     "metadata": {},
     "output_type": "execute_result"
    }
   ],
   "source": [
    "project_directory = os.path.abspath('../')\n",
    "tiempos_directory = os.path.join(project_directory, 'data', 'tiempos_logisticos')\n",
    "tiempos_files = os.listdir(tiempos_directory)\n",
    "tiempos_files"
   ]
  },
  {
   "attachments": {},
   "cell_type": "markdown",
   "metadata": {},
   "source": [
    "# Exploración archivos:"
   ]
  },
  {
   "attachments": {},
   "cell_type": "markdown",
   "metadata": {},
   "source": [
    "## Reducción de columnas:\n",
    "\n",
    "Para optimizar el uso del espacio en el bucket de data refinada en S3 y procesar solo la data necesaria en Lambda, se procede a identificar las columnas que no serán utilizadas."
   ]
  },
  {
   "attachments": {},
   "cell_type": "markdown",
   "metadata": {},
   "source": [
    "### Definir campos comunes entre los archivos:\n",
    "\n",
    "La lista resultante de campos será la primera base para definir los campos a guardar en el bucket de data refinada. En este caso se cambian algunos de los nombres de los campos para que coincidan con el nombre de los campos en los archivos de estadísticas."
   ]
  },
  {
   "cell_type": "code",
   "execution_count": 18,
   "metadata": {},
   "outputs": [
    {
     "data": {
      "text/plain": [
       "['AÑOMES',\n",
       " 'NATURALEZA',\n",
       " 'COD_PRODUCTO',\n",
       " 'PRODUCTO',\n",
       " 'CANTIDAD',\n",
       " 'UNID_MEDIDA',\n",
       " 'FECHASALIDACARGUE',\n",
       " 'HORA_SALIDA_CARGUE',\n",
       " 'FECHALLEGADADESCARGUE',\n",
       " 'HORA_LLEGADA_DESCARGUE',\n",
       " 'CODIGO_CARGUE',\n",
       " 'CARGUE',\n",
       " 'CODIGO_DESCARGUE',\n",
       " 'DESCARGUE',\n",
       " 'HORAS_VIAJE',\n",
       " 'HORAS_ESPERA_CARGUE',\n",
       " 'HORAS_CARGUE',\n",
       " 'HORAS_ESPERA_DESCARGUE',\n",
       " 'HORAS_DESCARGUE',\n",
       " 'VALOR_PACTADO',\n",
       " 'VALOR_PAGADO',\n",
       " 'CANTIDAD_REMESAS_VIAJE',\n",
       " 'EMPRESA_TRANSPORTE',\n",
       " 'PLACA',\n",
       " 'CONFIGURACION',\n",
       " 'CONDUCTOR']"
      ]
     },
     "execution_count": 18,
     "metadata": {},
     "output_type": "execute_result"
    }
   ],
   "source": [
    "ls_raw_fields = []\n",
    "file_encoding = 'latin-1'\n",
    "\n",
    "for file in tiempos_files:\n",
    "    file_path = os.path.join(tiempos_directory, file)\n",
    "    df = pd.read_csv(file_path,nrows=1,delimiter='|',encoding=file_encoding)\n",
    "    ls_raw_fields_aux = df.columns.to_list()\n",
    "    if len(ls_raw_fields)==0:\n",
    "        ls_raw_fields = ls_raw_fields_aux\n",
    "    else:\n",
    "        list(set(ls_raw_fields).intersection(ls_raw_fields_aux))\n",
    "ls_raw_fields"
   ]
  },
  {
   "attachments": {},
   "cell_type": "markdown",
   "metadata": {},
   "source": [
    "### Definir campos finales:\n",
    "\n",
    "Se considera a los campos que no están en esta lista como redundates porque no harán parte del esquema final del modelo. En este caso solo son necesarios los campos que hacen referencia a los tiempos losgísticos, origen, destino, tipo de vehículo y naturaleza de la carga. Estos serán los campos a consultar, explorar y guardar en el bucket de data refinada."
   ]
  },
  {
   "cell_type": "code",
   "execution_count": 19,
   "metadata": {},
   "outputs": [],
   "source": [
    "ls_refined_fields = ['AÑOMES','NATURALEZA','CONFIGURACION','CODIGO_CARGUE','CODIGO_DESCARGUE','HORAS_VIAJE','HORAS_ESPERA_CARGUE',\n",
    "                     'HORAS_CARGUE','HORAS_ESPERA_DESCARGUE','HORAS_DESCARGUE']"
   ]
  },
  {
   "attachments": {},
   "cell_type": "markdown",
   "metadata": {},
   "source": [
    "## Identificar y definir tipos de datos:\n",
    "\n",
    "El objetivo es identificar el tipo de datos presente en todos los archivos y saber si corresponden entre archivo y archivo. Estos serán el tipo de campos a asegurar durante el proceso de limpieza."
   ]
  },
  {
   "cell_type": "code",
   "execution_count": 21,
   "metadata": {},
   "outputs": [
    {
     "name": "stdout",
     "output_type": "stream",
     "text": [
      "              column_name data_type\n",
      "0                  AÑOMES     int64\n",
      "1              NATURALEZA    object\n",
      "2           CODIGO_CARGUE     int64\n",
      "3        CODIGO_DESCARGUE     int64\n",
      "4             HORAS_VIAJE   float64\n",
      "5     HORAS_ESPERA_CARGUE   float64\n",
      "6            HORAS_CARGUE   float64\n",
      "7  HORAS_ESPERA_DESCARGUE   float64\n",
      "8         HORAS_DESCARGUE   float64\n",
      "9           CONFIGURACION    object\n",
      "True\n"
     ]
    }
   ],
   "source": [
    "ls_raw_fields = []\n",
    "df_info = pd.DataFrame()\n",
    "for file in tiempos_files:\n",
    "    file_path = os.path.join(tiempos_directory, file)\n",
    "    df = pd.read_csv(file_path,delimiter='|',encoding=file_encoding,usecols=ls_refined_fields)\n",
    "    ls_columns = df.columns.tolist()\n",
    "    ls_data_types = df.dtypes.tolist()\n",
    "    df_info_aux = pd.DataFrame({'column_name': ls_columns, 'data_type': ls_data_types})\n",
    "    if df_info.empty:\n",
    "        df_info = df_info_aux\n",
    "    else:\n",
    "        df_info = pd.merge(df_info,df_info_aux,on = ['column_name','data_type'],how='left')\n",
    "\n",
    "val =  len(df_info) == len(ls_refined_fields)\n",
    "print(df_info)\n",
    "print(val)"
   ]
  },
  {
   "attachments": {},
   "cell_type": "markdown",
   "metadata": {},
   "source": [
    "### Se crea un diccionario con el tipo de datos:\n",
    "\n",
    "Este diccionario se usará en el proceso de lectra de los archivos para asegurar el formato de los campos."
   ]
  },
  {
   "cell_type": "code",
   "execution_count": 23,
   "metadata": {},
   "outputs": [
    {
     "data": {
      "text/plain": [
       "{'AÑOMES': dtype('int64'),\n",
       " 'NATURALEZA': dtype('O'),\n",
       " 'CODIGO_CARGUE': dtype('int64'),\n",
       " 'CODIGO_DESCARGUE': dtype('int64'),\n",
       " 'HORAS_VIAJE': dtype('float64'),\n",
       " 'HORAS_ESPERA_CARGUE': dtype('float64'),\n",
       " 'HORAS_CARGUE': dtype('float64'),\n",
       " 'HORAS_ESPERA_DESCARGUE': dtype('float64'),\n",
       " 'HORAS_DESCARGUE': dtype('float64'),\n",
       " 'CONFIGURACION': dtype('O')}"
      ]
     },
     "execution_count": 23,
     "metadata": {},
     "output_type": "execute_result"
    }
   ],
   "source": [
    "dict_types = df_info.set_index('column_name')['data_type'].to_dict()\n",
    "# df = pd.read_excel(file_path,nrows=100,usecols=ls_refined_fields,dtype=dict_types)\n",
    "dict_types"
   ]
  },
  {
   "attachments": {},
   "cell_type": "markdown",
   "metadata": {},
   "source": [
    "## Validaciones:\n",
    "\n",
    "En este paso se establecen las validaciones de los archivos, en caso de que algún archivo no supere la fase de validación no será cargado en el bucket de data refinada."
   ]
  },
  {
   "attachments": {},
   "cell_type": "markdown",
   "metadata": {},
   "source": [
    "### Validar formato de archivos:\n",
    "\n",
    "Se valida si el formato de los archivos"
   ]
  },
  {
   "cell_type": "code",
   "execution_count": 24,
   "metadata": {},
   "outputs": [
    {
     "name": "stdout",
     "output_type": "stream",
     "text": [
      "file: RemesasRNDC_202207.txt | validation: True\n",
      "file: RemesasRNDC_202208.txt | validation: True\n",
      "file: RemesasRNDC_202209.txt | validation: True\n",
      "file: RemesasRNDC_202210.txt | validation: True\n",
      "file: RemesasRNDC_202211.txt | validation: True\n",
      "file: RemesasRNDC_202212.txt | validation: True\n",
      "file: RemesasRNDC_202301.txt | validation: True\n",
      "file: RemesasRNDC_202302.txt | validation: True\n",
      "file: RemesasRNDC_202303.txt | validation: True\n"
     ]
    }
   ],
   "source": [
    "for file in tiempos_files:\n",
    "    if not file_path.endswith('.txt'):\n",
    "        val = False\n",
    "    else:\n",
    "        val = True\n",
    "    print(f'file: {file} | validation: {val}')"
   ]
  },
  {
   "attachments": {},
   "cell_type": "markdown",
   "metadata": {},
   "source": [
    "###  Validar campos:\n",
    "\n",
    "Se valida si todos los campos definidos están presentes en el archivo."
   ]
  },
  {
   "cell_type": "code",
   "execution_count": 25,
   "metadata": {},
   "outputs": [
    {
     "name": "stdout",
     "output_type": "stream",
     "text": [
      "file RemesasRNDC_202207.txt | validation: True\n",
      "file RemesasRNDC_202208.txt | validation: True\n",
      "file RemesasRNDC_202209.txt | validation: True\n",
      "file RemesasRNDC_202210.txt | validation: True\n",
      "file RemesasRNDC_202211.txt | validation: True\n",
      "file RemesasRNDC_202212.txt | validation: True\n",
      "file RemesasRNDC_202301.txt | validation: True\n",
      "file RemesasRNDC_202302.txt | validation: True\n",
      "file RemesasRNDC_202303.txt | validation: True\n"
     ]
    }
   ],
   "source": [
    "for file in tiempos_files:\n",
    "    file_path = os.path.join(tiempos_directory, file)\n",
    "    df = pd.read_csv(file_path,nrows=0,delimiter='|',encoding=file_encoding)\n",
    "    val = all(elem in df.columns.to_list() for elem in ls_refined_fields)\n",
    "    print(f'file {file} | validation: {val}')"
   ]
  },
  {
   "attachments": {},
   "cell_type": "markdown",
   "metadata": {},
   "source": [
    "### Validar coherencia en los datos:\n",
    "\n",
    "Se valida si el periodo al que hace referencia el nombre del archivo corresponde con el dato de la columna \"MES\". Para el momento de la limpieza si el archivo no cumple esta validación no será procesado ni cargado en el bucked de data refinada."
   ]
  },
  {
   "cell_type": "code",
   "execution_count": 27,
   "metadata": {},
   "outputs": [
    {
     "name": "stdout",
     "output_type": "stream",
     "text": [
      "file: RemesasRNDC_202207.txt | period: 202207.0 | period_avg: 202207.0 | validation: True\n",
      "file: RemesasRNDC_202208.txt | period: 202208.0 | period_avg: 202208.0 | validation: True\n",
      "file: RemesasRNDC_202209.txt | period: 202209.0 | period_avg: 202209.0 | validation: True\n",
      "file: RemesasRNDC_202210.txt | period: 202210.0 | period_avg: 202210.0 | validation: True\n",
      "file: RemesasRNDC_202211.txt | period: 202211.0 | period_avg: 202211.0 | validation: True\n",
      "file: RemesasRNDC_202212.txt | period: 202212.0 | period_avg: 202212.0 | validation: True\n",
      "file: RemesasRNDC_202301.txt | period: 202301.0 | period_avg: 202301.0 | validation: True\n",
      "file: RemesasRNDC_202302.txt | period: 202302.0 | period_avg: 202302.0 | validation: True\n",
      "file: RemesasRNDC_202303.txt | period: 202303.0 | period_avg: 202303.0 | validation: True\n"
     ]
    }
   ],
   "source": [
    "for file in tiempos_files:\n",
    "    file_path = os.path.join(tiempos_directory, file)\n",
    "    period = float(file.split('_')[-1].split('.')[0])\n",
    "    df = pd.read_csv(file_path,usecols=['AÑOMES'],delimiter='|',encoding=file_encoding)\n",
    "    period_avg = df.AÑOMES.mean()\n",
    "    val = period == period_avg\n",
    "    print(f'file: {file} | period: {period} | period_avg: {period_avg} | validation: {val}')"
   ]
  },
  {
   "attachments": {},
   "cell_type": "markdown",
   "metadata": {},
   "source": [
    "# Transformaciones y limpieza:\n",
    "\n",
    "En este paso entrarán todos los archivos que hayan pasado la fase de validación. Sin embargo, para el ejemplo de este notebook ssolo se usará el archivo \"RemesasRNDC_202207.txt\". En este caso se cambiará el nombre de varias columnas para que coincidan con los campos de los archivos de estadísticas."
   ]
  },
  {
   "cell_type": "code",
   "execution_count": 39,
   "metadata": {},
   "outputs": [
    {
     "name": "stdout",
     "output_type": "stream",
     "text": [
      "file: RemesasRNDC_202207.txt | status: refined\n"
     ]
    }
   ],
   "source": [
    "file = 'RemesasRNDC_202207.txt'\n",
    "file_path = os.path.join(tiempos_directory, file)\n",
    "df = pd.read_csv(file_path,usecols=ls_refined_fields,delimiter='|',encoding=file_encoding,dtype=dict_types)\n",
    "df.rename(columns={'AÑOMES': 'ANOMES','NATURALEZA':'NATURALEZACARGA','CONFIGURACION':'COD_CONFIG_VEHICULO',\n",
    "                    'CODIGO_CARGUE':'CODMUNICIPIOORIGEN','CODIGO_DESCARGUE':'CODMUNICIPIODESTINO'},inplace=True)\n",
    "df.drop_duplicates(inplace=True) # eliminar duplicados\n",
    "df = df.applymap(lambda x: x.upper() if isinstance(x, str) else x) # volver mayúsculas los campos str\n",
    "df = df.applymap(lambda x: unidecode(x) if isinstance(x, str) else x) # quitar acentos a campos str\n",
    "df_grouped = df.groupby(by=['ANOMES','NATURALEZACARGA','CODMUNICIPIOORIGEN','CODMUNICIPIODESTINO','COD_CONFIG_VEHICULO'],as_index=False).mean()\n",
    "print(f'file: {file} | status: refined')"
   ]
  },
  {
   "cell_type": "code",
   "execution_count": 40,
   "metadata": {},
   "outputs": [
    {
     "data": {
      "text/html": [
       "<div>\n",
       "<style scoped>\n",
       "    .dataframe tbody tr th:only-of-type {\n",
       "        vertical-align: middle;\n",
       "    }\n",
       "\n",
       "    .dataframe tbody tr th {\n",
       "        vertical-align: top;\n",
       "    }\n",
       "\n",
       "    .dataframe thead th {\n",
       "        text-align: right;\n",
       "    }\n",
       "</style>\n",
       "<table border=\"1\" class=\"dataframe\">\n",
       "  <thead>\n",
       "    <tr style=\"text-align: right;\">\n",
       "      <th></th>\n",
       "      <th>ANOMES</th>\n",
       "      <th>NATURALEZACARGA</th>\n",
       "      <th>CODMUNICIPIOORIGEN</th>\n",
       "      <th>CODMUNICIPIODESTINO</th>\n",
       "      <th>COD_CONFIG_VEHICULO</th>\n",
       "      <th>HORAS_VIAJE</th>\n",
       "      <th>HORAS_ESPERA_CARGUE</th>\n",
       "      <th>HORAS_CARGUE</th>\n",
       "      <th>HORAS_ESPERA_DESCARGUE</th>\n",
       "      <th>HORAS_DESCARGUE</th>\n",
       "    </tr>\n",
       "  </thead>\n",
       "  <tbody>\n",
       "    <tr>\n",
       "      <th>0</th>\n",
       "      <td>202207</td>\n",
       "      <td>CARGA EXTRADIMENSIONADA</td>\n",
       "      <td>5154000</td>\n",
       "      <td>23555000</td>\n",
       "      <td>3S2</td>\n",
       "      <td>97.92</td>\n",
       "      <td>0.08</td>\n",
       "      <td>1.98</td>\n",
       "      <td>0.07</td>\n",
       "      <td>2.00</td>\n",
       "    </tr>\n",
       "    <tr>\n",
       "      <th>1</th>\n",
       "      <td>202207</td>\n",
       "      <td>CARGA EXTRADIMENSIONADA</td>\n",
       "      <td>5234000</td>\n",
       "      <td>11001000</td>\n",
       "      <td>3S3</td>\n",
       "      <td>122.50</td>\n",
       "      <td>0.00</td>\n",
       "      <td>0.98</td>\n",
       "      <td>0.00</td>\n",
       "      <td>1.00</td>\n",
       "    </tr>\n",
       "    <tr>\n",
       "      <th>2</th>\n",
       "      <td>202207</td>\n",
       "      <td>CARGA EXTRADIMENSIONADA</td>\n",
       "      <td>11001000</td>\n",
       "      <td>73770000</td>\n",
       "      <td>3S3</td>\n",
       "      <td>28.40</td>\n",
       "      <td>0.13</td>\n",
       "      <td>1.58</td>\n",
       "      <td>0.17</td>\n",
       "      <td>1.42</td>\n",
       "    </tr>\n",
       "    <tr>\n",
       "      <th>3</th>\n",
       "      <td>202207</td>\n",
       "      <td>CARGA EXTRADIMENSIONADA</td>\n",
       "      <td>20011000</td>\n",
       "      <td>73547000</td>\n",
       "      <td>3S3</td>\n",
       "      <td>99.92</td>\n",
       "      <td>0.17</td>\n",
       "      <td>2.40</td>\n",
       "      <td>0.08</td>\n",
       "      <td>2.15</td>\n",
       "    </tr>\n",
       "    <tr>\n",
       "      <th>4</th>\n",
       "      <td>202207</td>\n",
       "      <td>CARGA EXTRADIMENSIONADA</td>\n",
       "      <td>20770000</td>\n",
       "      <td>68615031</td>\n",
       "      <td>3S3</td>\n",
       "      <td>33.83</td>\n",
       "      <td>0.17</td>\n",
       "      <td>1.98</td>\n",
       "      <td>0.17</td>\n",
       "      <td>1.98</td>\n",
       "    </tr>\n",
       "    <tr>\n",
       "      <th>...</th>\n",
       "      <td>...</td>\n",
       "      <td>...</td>\n",
       "      <td>...</td>\n",
       "      <td>...</td>\n",
       "      <td>...</td>\n",
       "      <td>...</td>\n",
       "      <td>...</td>\n",
       "      <td>...</td>\n",
       "      <td>...</td>\n",
       "      <td>...</td>\n",
       "    </tr>\n",
       "    <tr>\n",
       "      <th>59471</th>\n",
       "      <td>202207</td>\n",
       "      <td>SEMOVIENTES</td>\n",
       "      <td>73411000</td>\n",
       "      <td>73443000</td>\n",
       "      <td>2</td>\n",
       "      <td>9.00</td>\n",
       "      <td>0.00</td>\n",
       "      <td>0.98</td>\n",
       "      <td>0.00</td>\n",
       "      <td>0.98</td>\n",
       "    </tr>\n",
       "    <tr>\n",
       "      <th>59472</th>\n",
       "      <td>202207</td>\n",
       "      <td>SEMOVIENTES</td>\n",
       "      <td>73443000</td>\n",
       "      <td>73283000</td>\n",
       "      <td>2</td>\n",
       "      <td>9.00</td>\n",
       "      <td>0.00</td>\n",
       "      <td>0.98</td>\n",
       "      <td>0.00</td>\n",
       "      <td>0.98</td>\n",
       "    </tr>\n",
       "    <tr>\n",
       "      <th>59473</th>\n",
       "      <td>202207</td>\n",
       "      <td>SEMOVIENTES</td>\n",
       "      <td>73449000</td>\n",
       "      <td>73352000</td>\n",
       "      <td>2</td>\n",
       "      <td>14.50</td>\n",
       "      <td>0.00</td>\n",
       "      <td>0.98</td>\n",
       "      <td>0.00</td>\n",
       "      <td>0.98</td>\n",
       "    </tr>\n",
       "    <tr>\n",
       "      <th>59474</th>\n",
       "      <td>202207</td>\n",
       "      <td>SEMOVIENTES</td>\n",
       "      <td>73449000</td>\n",
       "      <td>73873000</td>\n",
       "      <td>2</td>\n",
       "      <td>12.00</td>\n",
       "      <td>0.00</td>\n",
       "      <td>0.98</td>\n",
       "      <td>0.00</td>\n",
       "      <td>0.98</td>\n",
       "    </tr>\n",
       "    <tr>\n",
       "      <th>59475</th>\n",
       "      <td>202207</td>\n",
       "      <td>SEMOVIENTES</td>\n",
       "      <td>76001000</td>\n",
       "      <td>8433000</td>\n",
       "      <td>2</td>\n",
       "      <td>47.58</td>\n",
       "      <td>0.17</td>\n",
       "      <td>1.32</td>\n",
       "      <td>0.07</td>\n",
       "      <td>1.90</td>\n",
       "    </tr>\n",
       "  </tbody>\n",
       "</table>\n",
       "<p>59476 rows × 10 columns</p>\n",
       "</div>"
      ],
      "text/plain": [
       "       ANOMES          NATURALEZACARGA  CODMUNICIPIOORIGEN   \n",
       "0      202207  CARGA EXTRADIMENSIONADA             5154000  \\\n",
       "1      202207  CARGA EXTRADIMENSIONADA             5234000   \n",
       "2      202207  CARGA EXTRADIMENSIONADA            11001000   \n",
       "3      202207  CARGA EXTRADIMENSIONADA            20011000   \n",
       "4      202207  CARGA EXTRADIMENSIONADA            20770000   \n",
       "...       ...                      ...                 ...   \n",
       "59471  202207              SEMOVIENTES            73411000   \n",
       "59472  202207              SEMOVIENTES            73443000   \n",
       "59473  202207              SEMOVIENTES            73449000   \n",
       "59474  202207              SEMOVIENTES            73449000   \n",
       "59475  202207              SEMOVIENTES            76001000   \n",
       "\n",
       "       CODMUNICIPIODESTINO COD_CONFIG_VEHICULO  HORAS_VIAJE   \n",
       "0                 23555000                 3S2        97.92  \\\n",
       "1                 11001000                 3S3       122.50   \n",
       "2                 73770000                 3S3        28.40   \n",
       "3                 73547000                 3S3        99.92   \n",
       "4                 68615031                 3S3        33.83   \n",
       "...                    ...                 ...          ...   \n",
       "59471             73443000                   2         9.00   \n",
       "59472             73283000                   2         9.00   \n",
       "59473             73352000                   2        14.50   \n",
       "59474             73873000                   2        12.00   \n",
       "59475              8433000                   2        47.58   \n",
       "\n",
       "       HORAS_ESPERA_CARGUE  HORAS_CARGUE  HORAS_ESPERA_DESCARGUE   \n",
       "0                     0.08          1.98                    0.07  \\\n",
       "1                     0.00          0.98                    0.00   \n",
       "2                     0.13          1.58                    0.17   \n",
       "3                     0.17          2.40                    0.08   \n",
       "4                     0.17          1.98                    0.17   \n",
       "...                    ...           ...                     ...   \n",
       "59471                 0.00          0.98                    0.00   \n",
       "59472                 0.00          0.98                    0.00   \n",
       "59473                 0.00          0.98                    0.00   \n",
       "59474                 0.00          0.98                    0.00   \n",
       "59475                 0.17          1.32                    0.07   \n",
       "\n",
       "       HORAS_DESCARGUE  \n",
       "0                 2.00  \n",
       "1                 1.00  \n",
       "2                 1.42  \n",
       "3                 2.15  \n",
       "4                 1.98  \n",
       "...                ...  \n",
       "59471             0.98  \n",
       "59472             0.98  \n",
       "59473             0.98  \n",
       "59474             0.98  \n",
       "59475             1.90  \n",
       "\n",
       "[59476 rows x 10 columns]"
      ]
     },
     "execution_count": 40,
     "metadata": {},
     "output_type": "execute_result"
    }
   ],
   "source": [
    "df_grouped"
   ]
  }
 ],
 "metadata": {
  "kernelspec": {
   "display_name": "venv",
   "language": "python",
   "name": "python3"
  },
  "language_info": {
   "codemirror_mode": {
    "name": "ipython",
    "version": 3
   },
   "file_extension": ".py",
   "mimetype": "text/x-python",
   "name": "python",
   "nbconvert_exporter": "python",
   "pygments_lexer": "ipython3",
   "version": "3.10.4"
  },
  "orig_nbformat": 4
 },
 "nbformat": 4,
 "nbformat_minor": 2
}
